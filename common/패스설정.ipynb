{
 "cells": [
  {
   "cell_type": "code",
   "execution_count": 1,
   "metadata": {},
   "outputs": [
    {
     "name": "stdout",
     "output_type": "stream",
     "text": [
      "[INFO] 'common' 폴더를 sys.path에 추가: /Users/carki/Desktop/Dev/codeit/common\n"
     ]
    }
   ],
   "source": [
    "import sys\n",
    "from pathlib import Path\n",
    "\n",
    "def add_common_to_sys_path():\n",
    "    current_dir = Path.cwd()\n",
    "    for parent in [current_dir] + list(current_dir.parents):\n",
    "        if (parent / 'common').exists():\n",
    "            sys.path.append(str(parent / 'common'))\n",
    "            print(f\"[INFO] 'common' 폴더를 sys.path에 추가: {parent / 'common'}\")\n",
    "            return\n",
    "    raise RuntimeError(\"common 폴더를 찾을 수 없습니다.\")\n",
    "\n",
    "add_common_to_sys_path()"
   ]
  },
  {
   "cell_type": "code",
   "execution_count": null,
   "metadata": {},
   "outputs": [],
   "source": []
  }
 ],
 "metadata": {
  "kernelspec": {
   "display_name": "Python 3.13.2 ('codeit': venv)",
   "language": "python",
   "name": "python3"
  },
  "language_info": {
   "codemirror_mode": {
    "name": "ipython",
    "version": 3
   },
   "file_extension": ".py",
   "mimetype": "text/x-python",
   "name": "python",
   "nbconvert_exporter": "python",
   "pygments_lexer": "ipython3",
   "version": "3.13.5"
  },
  "orig_nbformat": 4,
  "vscode": {
   "interpreter": {
    "hash": "5cc71bb7442b3227f7ba25f52e0c980094cba43144035e21e6c606c736b82359"
   }
  }
 },
 "nbformat": 4,
 "nbformat_minor": 2
}
